{
 "cells": [
 "cells": [
  {
   "cell_type": "markdown",
   "id": "07e8d9b3",
   "metadata": {},
   "source": [
    "# Question 13 - Conditional Logic\n",
    "Ask the user for a number and print whether it is positive, negative, or zero."
   ]
  },
  {
   "cell_type": "code",
   "execution_count": null,
   "id": "b955e21f",
   "metadata": {},
   "outputs": [
    {
     "name": "stdout",
     "output_type": "stream",
     "text": [
      "positive\n"
     ]
    }
   ],
   "outputs": [
    {
     "name": "stdout",
     "output_type": "stream",
     "text": [
      "positive\n"
     ]
    }
   ],
   "source": [
    "# Enter your code here\n",
<<<<<<< HEAD:classes/week02/wednesday/exercises/q13-22.ipynb
    "#breakdown: categorize input from keyboard and print\n",
    "#use while so it doesn't crash\n",
    "\n",
    "# GO BACK TO THIS\n",
    "txt = 'please enter a number: '\n",
    "while True:\n",
    "    try:\n",
    "        num = int(input(txt))\n",
    "        i = 1\n",
    "        while i < 6:\n",
    "            print(i)\n",
    "            \n",
=======
>>>>>>> 15b809ee95d1cf5728b89196a6ad7bef82f80458:classes/week02/wednesday/exercises/q13-q22.ipynb
    "\n",
    "\n",
    "\n"
   ]
  },
  {
   "cell_type": "markdown",
   "id": "d5a9cf97",
   "metadata": {},
   "source": [
    "# Question 14 - Even/Odd Check\n",
    "Ask the user for a number and print if it is even or odd."
   ]
  },
  {
   "cell_type": "code",
   "execution_count": null,
<<<<<<< HEAD:classes/week02/wednesday/exercises/q13-22.ipynb
   "id": "eb91f8f0",
=======
   "id": "50b1c63f",
>>>>>>> 15b809ee95d1cf5728b89196a6ad7bef82f80458:classes/week02/wednesday/exercises/q13-q22.ipynb
   "metadata": {},
   "outputs": [
    {
     "name": "stdout",
     "output_type": "stream",
     "text": [
      "Even\n"
     ]
    }
   ],
   "source": [
    "# Enter your code here\n",
<<<<<<< HEAD:classes/week02/wednesday/exercises/q13-22.ipynb
    "number = int(input(\"enter a number:\"))\n",
    "if number  % 2 ==0:\n",
    "    print(\"Even\")\n",
    "else:\n",
    "    print(\"Odd\")\n",
    "\n",
    "txt = 'please enter a number: '\n",
    "while True:\n",
    "    try:\n",
    "        num = int(input(txt))\n",
    "        break\n",
    "    except ValueError:\n",
    "        txtm = ' a number for my kingdom: '\n",
    "if num % 2 == 0 : print('even')\n",
    "else: print ('Odd')\n"
=======
    "\n"
>>>>>>> 15b809ee95d1cf5728b89196a6ad7bef82f80458:classes/week02/wednesday/exercises/q13-q22.ipynb
   ]
  },
  {
   "cell_type": "markdown",
   "id": "d75d6d70",
   "metadata": {},
   "source": [
    "# Question 15 - Boolean Operators\n",
    "Ask the user for two numbers and check if both are positive, either is positive, or none is positive."
   ]
  },
  {
   "cell_type": "code",
   "execution_count": null,
   "id": "a06dbda5",
   "metadata": {},
   "outputs": [
    {
     "name": "stdout",
     "output_type": "stream",
     "text": [
      "None positive\n"
     ]
    }
   ],
   "source": [
    "# Enter your code here\n",
<<<<<<< HEAD:classes/week02/wednesday/exercises/q13-22.ipynb
    "num1 = int(input(\"Enter first number:\"))\n",
    "num2 = int(input(\"Enter second number:\"))\n",
    "\n",
    "#check if positive\n",
    "\n",
    "if num1 > 0 and num2 > 0: \n",
    "    print(\"both positive\")\n",
    "elif num1 > 0 or num2 > 0:\n",
    "    print(\"one positive\")\n",
    "elif num1 < 0 and num2 < 0:\n",
    "    print(\"None positive\")\n",
    "\n",
    "txt = 'please enter a number: '\n",
    "while True:\n",
    "    try:\n",
    "        num1 = int(input(txt))\n",
    "        break\n",
    "    except ValueError:\n",
    "        txtm = 'a number for my kingdom: '\n",
    "        \n",
    "    txt = 'please enter a nuber: '\n",
    "    while True:\n",
    "        try:\n",
    "            num2 = int(input(txt))\n",
    "            break\n",
    "        except ValueError:\n",
    "            txtm = ' anumber for my kingdom '\n",
    "if num1 > 0:\n",
    "    print()\n",
=======
>>>>>>> 15b809ee95d1cf5728b89196a6ad7bef82f80458:classes/week02/wednesday/exercises/q13-q22.ipynb
    "\n"
   ]
  },
  {
   "cell_type": "markdown",
   "id": "b145d68c",
   "metadata": {},
   "source": [
    "# Question 16 - For Loop\n",
    "Print all numbers from 1 to 20, skipping multiples of 3."
   ]
  },
  {
   "cell_type": "code",
   "execution_count": null,
   "id": "8859f8b8",
   "metadata": {},
<<<<<<< HEAD:classes/week02/wednesday/exercises/q13-22.ipynb
   "outputs": [
    {
     "name": "stdout",
     "output_type": "stream",
     "text": [
      "1 2 4 5 7 8 10 11 13 14 16 17 19 20 "
     ]
    }
   ],
   "source": [
    "# Enter your code here\n",
    "for idx in range(1,21):\n",
    "    if idx % 3 != 0:\n",
    "        print(i, end = \" \")\n",
=======
   "outputs": [],
   "source": [
    "# Enter your code here\n",
    "\n",
>>>>>>> 15b809ee95d1cf5728b89196a6ad7bef82f80458:classes/week02/wednesday/exercises/q13-q22.ipynb
    "\n"
   ]
  },
  {
   "cell_type": "markdown",
   "id": "04f41cb4",
   "metadata": {},
   "source": [
    "# Question 17 - While Loop\n",
    "# Ask the user to guess a secret number (hardcoded) until they get it right."
   ]
  },
  {
   "cell_type": "code",
<<<<<<< HEAD:classes/week02/wednesday/exercises/q13-22.ipynb
   "execution_count": 3,
   "execution_count": 3,
   "id": "2be510dc",
   "metadata": {},
   "outputs": [
    {
     "ename": "KeyboardInterrupt",
     "evalue": "Interrupted by user",
     "output_type": "error",
     "traceback": [
      "\u001b[0;31m---------------------------------------------------------------------------\u001b[0m",
      "\u001b[0;31mKeyboardInterrupt\u001b[0m                         Traceback (most recent call last)",
      "Cell \u001b[0;32mIn[3], line 7\u001b[0m\n\u001b[1;32m      5\u001b[0m \u001b[38;5;28;01mwhile\u001b[39;00m \u001b[38;5;28;01mTrue\u001b[39;00m:\n\u001b[1;32m      6\u001b[0m     \u001b[38;5;28;01mtry\u001b[39;00m:\n\u001b[0;32m----> 7\u001b[0m         userinp \u001b[38;5;241m=\u001b[39m \u001b[38;5;28mint\u001b[39m(\u001b[38;5;28;43minput\u001b[39;49m\u001b[43m(\u001b[49m\u001b[43mtxt\u001b[49m\u001b[43m)\u001b[49m)\n\u001b[1;32m      8\u001b[0m         \u001b[38;5;28;01mif\u001b[39;00m userinp \u001b[38;5;241m<\u001b[39m \u001b[38;5;241m1\u001b[39m \u001b[38;5;129;01mor\u001b[39;00m userinp \u001b[38;5;241m>\u001b[39m \u001b[38;5;241m10\u001b[39m: \u001b[38;5;28;01mraise\u001b[39;00m \u001b[38;5;167;01mException\u001b[39;00m\n\u001b[1;32m      9\u001b[0m         \u001b[38;5;28;01mbreak\u001b[39;00m\n",
      "File \u001b[0;32m~/.local/lib/python3.10/site-packages/ipykernel/kernelbase.py:1275\u001b[0m, in \u001b[0;36mKernel.raw_input\u001b[0;34m(self, prompt)\u001b[0m\n\u001b[1;32m   1273\u001b[0m     msg \u001b[38;5;241m=\u001b[39m \u001b[38;5;124m\"\u001b[39m\u001b[38;5;124mraw_input was called, but this frontend does not support input requests.\u001b[39m\u001b[38;5;124m\"\u001b[39m\n\u001b[1;32m   1274\u001b[0m     \u001b[38;5;28;01mraise\u001b[39;00m StdinNotImplementedError(msg)\n\u001b[0;32m-> 1275\u001b[0m \u001b[38;5;28;01mreturn\u001b[39;00m \u001b[38;5;28;43mself\u001b[39;49m\u001b[38;5;241;43m.\u001b[39;49m\u001b[43m_input_request\u001b[49m\u001b[43m(\u001b[49m\n\u001b[1;32m   1276\u001b[0m \u001b[43m    \u001b[49m\u001b[38;5;28;43mstr\u001b[39;49m\u001b[43m(\u001b[49m\u001b[43mprompt\u001b[49m\u001b[43m)\u001b[49m\u001b[43m,\u001b[49m\n\u001b[1;32m   1277\u001b[0m \u001b[43m    \u001b[49m\u001b[38;5;28;43mself\u001b[39;49m\u001b[38;5;241;43m.\u001b[39;49m\u001b[43m_parent_ident\u001b[49m\u001b[43m[\u001b[49m\u001b[38;5;124;43m\"\u001b[39;49m\u001b[38;5;124;43mshell\u001b[39;49m\u001b[38;5;124;43m\"\u001b[39;49m\u001b[43m]\u001b[49m\u001b[43m,\u001b[49m\n\u001b[1;32m   1278\u001b[0m \u001b[43m    \u001b[49m\u001b[38;5;28;43mself\u001b[39;49m\u001b[38;5;241;43m.\u001b[39;49m\u001b[43mget_parent\u001b[49m\u001b[43m(\u001b[49m\u001b[38;5;124;43m\"\u001b[39;49m\u001b[38;5;124;43mshell\u001b[39;49m\u001b[38;5;124;43m\"\u001b[39;49m\u001b[43m)\u001b[49m\u001b[43m,\u001b[49m\n\u001b[1;32m   1279\u001b[0m \u001b[43m    \u001b[49m\u001b[43mpassword\u001b[49m\u001b[38;5;241;43m=\u001b[39;49m\u001b[38;5;28;43;01mFalse\u001b[39;49;00m\u001b[43m,\u001b[49m\n\u001b[1;32m   1280\u001b[0m \u001b[43m\u001b[49m\u001b[43m)\u001b[49m\n",
      "File \u001b[0;32m~/.local/lib/python3.10/site-packages/ipykernel/kernelbase.py:1320\u001b[0m, in \u001b[0;36mKernel._input_request\u001b[0;34m(self, prompt, ident, parent, password)\u001b[0m\n\u001b[1;32m   1317\u001b[0m \u001b[38;5;28;01mexcept\u001b[39;00m \u001b[38;5;167;01mKeyboardInterrupt\u001b[39;00m:\n\u001b[1;32m   1318\u001b[0m     \u001b[38;5;66;03m# re-raise KeyboardInterrupt, to truncate traceback\u001b[39;00m\n\u001b[1;32m   1319\u001b[0m     msg \u001b[38;5;241m=\u001b[39m \u001b[38;5;124m\"\u001b[39m\u001b[38;5;124mInterrupted by user\u001b[39m\u001b[38;5;124m\"\u001b[39m\n\u001b[0;32m-> 1320\u001b[0m     \u001b[38;5;28;01mraise\u001b[39;00m \u001b[38;5;167;01mKeyboardInterrupt\u001b[39;00m(msg) \u001b[38;5;28;01mfrom\u001b[39;00m\u001b[38;5;250m \u001b[39m\u001b[38;5;28;01mNone\u001b[39;00m\n\u001b[1;32m   1321\u001b[0m \u001b[38;5;28;01mexcept\u001b[39;00m \u001b[38;5;167;01mException\u001b[39;00m:\n\u001b[1;32m   1322\u001b[0m     \u001b[38;5;28mself\u001b[39m\u001b[38;5;241m.\u001b[39mlog\u001b[38;5;241m.\u001b[39mwarning(\u001b[38;5;124m\"\u001b[39m\u001b[38;5;124mInvalid Message:\u001b[39m\u001b[38;5;124m\"\u001b[39m, exc_info\u001b[38;5;241m=\u001b[39m\u001b[38;5;28;01mTrue\u001b[39;00m)\n",
      "\u001b[0;31mKeyboardInterrupt\u001b[0m: Interrupted by user"
     ]
    }
   ],
   "source": [
    "# Enter your code here\n",
    "shhh = (7,)\n",
    "txt = 'please enter a number (1-10): '\n",
    "\n",
    "while True:\n",
    "    try:\n",
    "        userinp = int(input(txt))\n",
    "        if userinp < 1 or userinp > 10: raise Exception\n",
    "        break\n",
    "    except ValueError: \n",
    "        txt = 'a number'\n",
    "    except Exception: #checking range 1-10\n",
    "        txt = 'between 1 and 10'\n",
    "\n",
    "while userinp != shhh[0]:\n",
    "    print(\"Incorrect, try again.\")\n",
    "    userinp = int(input(\"Guess the secret number:\"))\n",
    "print(\"Correct, the number is\", shhh[0])"
=======
   "execution_count": null,
   "id": "2be510dc",
   "metadata": {},
   "outputs": [],
   "source": [
    "# Enter your code here\n",
    "\n"
>>>>>>> 15b809ee95d1cf5728b89196a6ad7bef82f80458:classes/week02/wednesday/exercises/q13-q22.ipynb
   ]
  },
  {
   "cell_type": "markdown",
   "id": "4bdfcb3e",
   "metadata": {},
   "source": [
    "# Question 18 - Break / Continue\n",
    "Print numbers 1-10 but stop printing when you reach 7 and skip 3."
   ]
  },
  {
   "cell_type": "code",
<<<<<<< HEAD:classes/week02/wednesday/exercises/q13-22.ipynb
   "execution_count": 9,
   "id": "b1beecee",
   "metadata": {},
   "outputs": [
    {
     "name": "stdout",
     "output_type": "stream",
     "text": [
      "1\n",
      "2\n",
      "4\n",
      "5\n",
      "6\n"
     ]
    }
   ],
   "source": [
    "# Enter your code here\n",
    "\n",
    "for i in range (1,10):\n",
    "    if i == 3:\n",
    "        continue\n",
    "    if i == 7:\n",
    "        break\n",
    "    print(i)\n"
=======
   "execution_count": null,
   "id": "b1beecee",
   "metadata": {},
   "outputs": [],
   "source": [
    "# Enter your code here\n",
    "\n"
>>>>>>> 15b809ee95d1cf5728b89196a6ad7bef82f80458:classes/week02/wednesday/exercises/q13-q22.ipynb
   ]
  },
  {
   "cell_type": "markdown",
   "id": "55d6425e",
   "metadata": {},
   "source": [
    "# Question 19 - Function Definition\n",
    "Write a function square(x) that returns the square of a number and test it."
   ]
  },
  {
   "cell_type": "code",
   "execution_count": null,
   "id": "ae5e7912",
   "metadata": {},
   "outputs": [
    {
     "name": "stdout",
     "output_type": "stream",
     "text": [
      "9\n"
     ]
    }
   ],
   "source": [
<<<<<<< HEAD:classes/week02/wednesday/exercises/q13-22.ipynb
    "# Enter your code here\n",
    "num = int(input(\"Enter number:\"))\n",
    "def squarex(n):\n",
    "    sq = n ** 2 \n",
    "    print(sq)\n",
    "    #have to add something to parameter if passing it through the function\n",
    "squarex(num)"
=======
    "# Enter your code here\n"
>>>>>>> 15b809ee95d1cf5728b89196a6ad7bef82f80458:classes/week02/wednesday/exercises/q13-q22.ipynb
   ]
  },
  {
   "cell_type": "markdown",
   "id": "5a1e7acb",
   "metadata": {},
   "source": [
    "# Question 20 - Function with Mutable Argument\n",
    "Write a function add_item(lst, item) that appends item to lst and observe the effect on the original list."
   ]
  },
  {
   "cell_type": "code",
<<<<<<< HEAD:classes/week02/wednesday/exercises/q13-22.ipynb
   "execution_count": 15,
   "id": "328b87f2",
   "metadata": {},
   "outputs": [
    {
     "name": "stdout",
     "output_type": "stream",
     "text": [
      "['a', 'b', 'c', 'd', 'e', 'z']\n"
     ]
    }
   ],
   "source": [
    "# Enter your code here\n",
    "\n",
    "lst = ['a', 'b', 'c', 'd', 'e']\n",
    "def add_item(n):\n",
    "    lst.append(\"z\")\n",
    "    print(n)\n",
    "add_item(lst)"
=======
   "execution_count": null,
   "id": "328b87f2",
   "metadata": {},
   "outputs": [],
   "source": [
    "# Enter your code here\n"
>>>>>>> 15b809ee95d1cf5728b89196a6ad7bef82f80458:classes/week02/wednesday/exercises/q13-q22.ipynb
   ]
  },
  {
   "cell_type": "markdown",
   "id": "9b4a48c3",
   "metadata": {},
   "source": [
    "# Question 21 - Comments / Documentation\n",
    "Write a function greet(name) with single-line and multi-line comments explaining each step."
   ]
  },
  {
   "cell_type": "code",
<<<<<<< HEAD:classes/week02/wednesday/exercises/q13-22.ipynb
   "execution_count": 17,
=======
   "execution_count": null,
>>>>>>> 15b809ee95d1cf5728b89196a6ad7bef82f80458:classes/week02/wednesday/exercises/q13-q22.ipynb
   "id": "8617f09d",
   "metadata": {},
   "outputs": [
    {
     "name": "stdout",
     "output_type": "stream",
     "text": [
      "Hello Ashley\n"
     ]
    }
   ],
   "source": [
<<<<<<< HEAD:classes/week02/wednesday/exercises/q13-22.ipynb
    "# Enter your code here\n",
    "\n",
    "#input of name\n",
    "name = input(\"Enter name:\")\n",
    "\n",
    "#the function\n",
    "def greet(n):\n",
    "    print(\"Hello\",n)\n",
    "\n",
    "'''functions structure\n",
    "- the n allows you to pass variable through function to get output\n",
    "- passing the user input which is assigned to variable through the function when called'''\n",
    "\n",
    "#calling the function\n",
    "greet(name)\n"
=======
    "# Enter your code here\n"
>>>>>>> 15b809ee95d1cf5728b89196a6ad7bef82f80458:classes/week02/wednesday/exercises/q13-q22.ipynb
   ]
  },
  {
   "cell_type": "markdown",
   "id": "017b83d4",
   "metadata": {},
   "source": [
    "# Question 22 - Combining Tools\n",
    "Ask the user to enter 5 names. Store them in a list, capitalize each name, sort the list, and print it."
   ]
  },
  {
   "cell_type": "code",
   "execution_count": null,
   "id": "26939624",
   "metadata": {},
<<<<<<< HEAD:classes/week02/wednesday/exercises/q13-22.ipynb
   "outputs": [
    {
     "ename": "TypeError",
     "evalue": "sort() takes no positional arguments",
     "output_type": "error",
     "traceback": [
      "\u001b[0;31m---------------------------------------------------------------------------\u001b[0m",
      "\u001b[0;31mTypeError\u001b[0m                                 Traceback (most recent call last)",
      "Cell \u001b[0;32mIn[1], line 15\u001b[0m\n\u001b[1;32m     13\u001b[0m nm4 \u001b[38;5;241m=\u001b[39m \u001b[38;5;28minput\u001b[39m(\u001b[38;5;124m\"\u001b[39m\u001b[38;5;124mEnter name 5:\u001b[39m\u001b[38;5;124m\"\u001b[39m)\n\u001b[1;32m     14\u001b[0m list_name \u001b[38;5;241m=\u001b[39m [nm0,nm1, nm2, nm3, nm4]\n\u001b[0;32m---> 15\u001b[0m \u001b[43mlist_name\u001b[49m\u001b[38;5;241;43m.\u001b[39;49m\u001b[43msort\u001b[49m\u001b[43m(\u001b[49m\u001b[43mlist_name\u001b[49m\u001b[43m)\u001b[49m\n\u001b[1;32m     16\u001b[0m \u001b[38;5;66;03m#name.sort sorts names in place\u001b[39;00m\n\u001b[1;32m     18\u001b[0m \u001b[38;5;28;01mfor\u001b[39;00m i \u001b[38;5;129;01min\u001b[39;00m \u001b[38;5;28mrange\u001b[39m(\u001b[38;5;28mlen\u001b[39m(list_name)):\n",
      "\u001b[0;31mTypeError\u001b[0m: sort() takes no positional arguments"
     ]
    }
   ],
   "source": [
    "# Enter your code here\n",
    "''' breakdown\n",
    "- user input of 5 names\n",
    "- create list from input\n",
    "- use cap function \n",
    "- sort list\n",
    "- print '''\n",
    "\n",
    "nm0 = input(\"Enter name 1:\")\n",
    "nm1 = input(\"Enter name 2:\")\n",
    "nm2 = input(\"Enter name 3:\")\n",
    "nm3 = input(\"Enter name 4:\")\n",
    "nm4 = input(\"Enter name 5:\")\n",
    "list_name = [nm0,nm1, nm2, nm3, nm4]\n",
    "\n",
    "#name.sort sorts names in place\n",
    "\n",
    "for i in range(len(list_name)):\n",
    "   list_name[i] = list_name[i].capitalize()\n",
    "\n",
    "print(list_name)"
=======
   "outputs": [],
   "source": [
    "# Enter your code here\n",
    "\n"
>>>>>>> 15b809ee95d1cf5728b89196a6ad7bef82f80458:classes/week02/wednesday/exercises/q13-q22.ipynb
   ]
  }
 ],
 "metadata": {
  "kernelspec": {
   "display_name": "Python 3",
   "language": "python",
   "name": "python3"
  },
  "language_info": {
   "codemirror_mode": {
    "name": "ipython",
    "version": 3
   },
   "file_extension": ".py",
   "mimetype": "text/x-python",
   "name": "python",
   "nbconvert_exporter": "python",
   "pygments_lexer": "ipython3",
   "version": "3.10.18"
   "version": "3.10.18"
  }
 },
 "nbformat": 4,
 "nbformat_minor": 5
}
