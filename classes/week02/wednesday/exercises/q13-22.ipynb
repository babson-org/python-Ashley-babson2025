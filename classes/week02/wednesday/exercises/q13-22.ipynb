{
 "cells": [
  {
   "cell_type": "markdown",
   "id": "07e8d9b3",
   "metadata": {},
   "source": [
    "# Question 13 - Conditional Logic\n",
    "Ask the user for a number and print whether it is positive, negative, or zero."
   ]
  },
  {
   "cell_type": "code",
   "execution_count": 2,
   "id": "b955e21f",
   "metadata": {},
   "outputs": [
    {
     "name": "stdout",
     "output_type": "stream",
     "text": [
      "positive\n"
     ]
    }
   ],
   "source": [
    "# Enter your code here\n",
    "#breakdown: categorize input from keyboard and print\n",
    "\n",
    "number = int(input(\"Enter number:\"))\n",
    "if number == 0: \n",
    "    print(\"zero\")\n",
    "elif number > 0:\n",
    "    print(\"positive\")\n",
    "elif number < 0:\n",
    "    print(\"negative\")\n",
    "\n"
   ]
  },
  {
   "cell_type": "markdown",
   "id": "d5a9cf97",
   "metadata": {},
   "source": [
    "# Question 14 - Even/Odd Check\n",
    "Ask the user for a number and print if it is even or odd."
   ]
  },
  {
   "cell_type": "code",
   "execution_count": 6,
   "id": "eb91f8f0",
   "metadata": {},
   "outputs": [
    {
     "name": "stdout",
     "output_type": "stream",
     "text": [
      "Even\n"
     ]
    }
   ],
   "source": [
    "# Enter your code here\n",
    "number = int(input(\"enter a number:\"))\n",
    "if number  % 2 ==0:\n",
    "    print(\"Even\")\n",
    "else:\n",
    "    print(\"Odd\")"
   ]
  },
  {
   "cell_type": "markdown",
   "id": "d75d6d70",
   "metadata": {},
   "source": [
    "# Question 15 - Boolean Operators\n",
    "Ask the user for two numbers and check if both are positive, either is positive, or none is positive."
   ]
  },
  {
   "cell_type": "code",
   "execution_count": 5,
   "id": "a06dbda5",
   "metadata": {},
   "outputs": [
    {
     "name": "stdout",
     "output_type": "stream",
     "text": [
      "None positive\n"
     ]
    }
   ],
   "source": [
    "# Enter your code here\n",
    "num1 = int(input(\"Enter first number:\"))\n",
    "num2 = int(input(\"Enter second number:\"))\n",
    "\n",
    "#check if positive\n",
    "\n",
    "if num1 > 0 and num2 > 0: \n",
    "    print(\"both positive\")\n",
    "elif num1 > 0 or num2 > 0:\n",
    "    print(\"one positive\")\n",
    "elif num1 < 0 and num2 < 0:\n",
    "    print(\"None positive\")\n"
   ]
  },
  {
   "cell_type": "markdown",
   "id": "b145d68c",
   "metadata": {},
   "source": [
    "# Question 16 - For Loop\n",
    "Print all numbers from 1 to 20, skipping multiples of 3."
   ]
  },
  {
   "cell_type": "code",
   "execution_count": 6,
   "id": "8859f8b8",
   "metadata": {},
   "outputs": [
    {
     "name": "stdout",
     "output_type": "stream",
     "text": [
      "1 2 4 5 7 8 10 11 13 14 16 17 19 20 "
     ]
    }
   ],
   "source": [
    "# Enter your code here\n",
    "for i in range(21):\n",
    "    if i % 3 != 0:\n",
    "        print(i, end = \" \")\n",
    "\n"
   ]
  },
  {
   "cell_type": "markdown",
   "id": "04f41cb4",
   "metadata": {},
   "source": [
    "# Question 17 - While Loop\n",
    "Ask the user to guess a secret number (hardcoded) until they get it right."
   ]
  },
  {
   "cell_type": "code",
   "execution_count": 8,
   "id": "2be510dc",
   "metadata": {},
   "outputs": [
    {
     "name": "stdout",
     "output_type": "stream",
     "text": [
      "Correct, the number is 7\n"
     ]
    }
   ],
   "source": [
    "# Enter your code here\n",
    "shhh = (7,)\n",
    "\n",
    "userinp = int(input(\"Guess the secret number:\"))\n",
    "\n",
    "while userinp != shhh[0]:\n",
    "    print(\"Incorrect, try again.\")\n",
    "    userinp = int(input(\"Guess the secret number:\"))\n",
    "print(\"Correct, the number is\", shhh[0])"
   ]
  },
  {
   "cell_type": "markdown",
   "id": "4bdfcb3e",
   "metadata": {},
   "source": [
    "# Question 18 - Break / Continue\n",
    "Print numbers 1-10 but stop printing when you reach 7 and skip 3."
   ]
  },
  {
   "cell_type": "code",
   "execution_count": 9,
   "id": "b1beecee",
   "metadata": {},
   "outputs": [
    {
     "name": "stdout",
     "output_type": "stream",
     "text": [
      "1\n",
      "2\n",
      "4\n",
      "5\n",
      "6\n"
     ]
    }
   ],
   "source": [
    "# Enter your code here\n",
    "\n",
    "for i in range (1,10):\n",
    "    if i == 3:\n",
    "        continue\n",
    "    if i == 7:\n",
    "        break\n",
    "    print(i)\n"
   ]
  },
  {
   "cell_type": "markdown",
   "id": "55d6425e",
   "metadata": {},
   "source": [
    "# Question 19 - Function Definition\n",
    "Write a function square(x) that returns the square of a number and test it."
   ]
  },
  {
   "cell_type": "code",
   "execution_count": null,
   "id": "ae5e7912",
   "metadata": {},
   "outputs": [
    {
     "name": "stdout",
     "output_type": "stream",
     "text": [
      "9\n"
     ]
    }
   ],
   "source": [
    "# Enter your code here\n",
    "num = int(input(\"Enter number:\"))\n",
    "def squarex(n):\n",
    "    sq = n ** 2 \n",
    "    print(sq)\n",
    "    #have to add something to parameter if passing it through the function\n",
    "squarex(num)"
   ]
  },
  {
   "cell_type": "markdown",
   "id": "5a1e7acb",
   "metadata": {},
   "source": [
    "# Question 20 - Function with Mutable Argument\n",
    "Write a function add_item(lst, item) that appends item to lst and observe the effect on the original list."
   ]
  },
  {
   "cell_type": "code",
   "execution_count": 15,
   "id": "328b87f2",
   "metadata": {},
   "outputs": [
    {
     "name": "stdout",
     "output_type": "stream",
     "text": [
      "['a', 'b', 'c', 'd', 'e', 'z']\n"
     ]
    }
   ],
   "source": [
    "# Enter your code here\n",
    "\n",
    "lst = ['a', 'b', 'c', 'd', 'e']\n",
    "def add_item(n):\n",
    "    lst.append(\"z\")\n",
    "    print(n)\n",
    "add_item(lst)"
   ]
  },
  {
   "cell_type": "markdown",
   "id": "9b4a48c3",
   "metadata": {},
   "source": [
    "# Question 21 - Comments / Documentation\n",
    "Write a function greet(name) with single-line and multi-line comments explaining each step."
   ]
  },
  {
   "cell_type": "code",
   "execution_count": 17,
   "id": "8617f09d",
   "metadata": {},
   "outputs": [
    {
     "name": "stdout",
     "output_type": "stream",
     "text": [
      "Hello Ashley\n"
     ]
    }
   ],
   "source": [
    "# Enter your code here\n",
    "\n",
    "#input of name\n",
    "name = input(\"Enter name:\")\n",
    "\n",
    "#the function\n",
    "def greet(n):\n",
    "    print(\"Hello\",n)\n",
    "\n",
    "'''functions structure\n",
    "- the n allows you to pass variable through function to get output\n",
    "- passing the user input which is assigned to variable through the function when called'''\n",
    "\n",
    "#calling the function\n",
    "greet(name)\n"
   ]
  },
  {
   "cell_type": "markdown",
   "id": "017b83d4",
   "metadata": {},
   "source": [
    "# Question 22 - Combining Tools\n",
    "Ask the user to enter 5 names. Store them in a list, capitalize each name, sort the list, and print it."
   ]
  },
  {
   "cell_type": "code",
   "execution_count": 18,
   "id": "26939624",
   "metadata": {},
   "outputs": [
    {
     "name": "stdout",
     "output_type": "stream",
     "text": [
      "['Ashley', 'Grace', 'Taylor', 'Ally', 'Charlotte']\n"
     ]
    }
   ],
   "source": [
    "# Enter your code here\n",
    "''' breakdown\n",
    "- user input of 5 names\n",
    "- create list from input\n",
    "- use cap function \n",
    "- sort list\n",
    "- print '''\n",
    "\n",
    "nm0 = input(\"Enter name 1:\")\n",
    "nm1 = input(\"Enter name 2:\")\n",
    "nm2 = input(\"Enter name 3:\")\n",
    "nm3 = input(\"Enter name 4:\")\n",
    "nm4 = input(\"Enter name 5:\")\n",
    "list_name = [nm0,nm1, nm2, nm3, nm4]\n",
    "\n",
    "for i in range(len(list_name)):\n",
    "   list_name[i] = list_name[i].capitalize()\n",
    "\n",
    "print(list_name)"
   ]
  }
 ],
 "metadata": {
  "kernelspec": {
   "display_name": "Python 3",
   "language": "python",
   "name": "python3"
  },
  "language_info": {
   "codemirror_mode": {
    "name": "ipython",
    "version": 3
   },
   "file_extension": ".py",
   "mimetype": "text/x-python",
   "name": "python",
   "nbconvert_exporter": "python",
   "pygments_lexer": "ipython3",
   "version": "3.10.18"
  }
 },
 "nbformat": 4,
 "nbformat_minor": 5
}
