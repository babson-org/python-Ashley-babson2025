{
 "cells": [
  {
   "cell_type": "markdown",
   "id": "0",
   "metadata": {},
   "source": [
    "# 🧩 Recursion Practice Problems\n",
    "These exercises give you hands-on practice with recursion in Python.\n",
    "Each problem includes a short description followed by an empty code block — fill in your own solution!"
   ]
  },
  {
   "cell_type": "markdown",
   "id": "1",
   "metadata": {},
   "source": [
    "## 1️⃣ Reverse a String\n",
    "Write a recursive function `reverse(s)` that returns the reverse of a string."
   ]
  },
  {
   "cell_type": "code",
   "execution_count": null,
   "id": "2",
   "metadata": {},
   "outputs": [],
   "source": [
    "# TODO: Implement reverse(s)\n",
    "def reverse_string(s):\n",
    "    if s == '':\n",
    "        return ''\n",
    "    else: return s[-1] + s[:-1]\n",
    "txt = 'goodbye'\n",
    "l = txt[-1]\n",
    "txt = txt[:-1]\n",
    "print(l,txt)\n",
    "\n",
    "print(reverse_string(\"Goodbye\"))\n"
   ]
  },
  {
   "cell_type": "markdown",
   "id": "3",
   "metadata": {},
   "source": [
    "## 2️⃣ Palindrome Check\n",
    "Write a recursive function `is_palindrome(s)` that returns `True` if the string reads the same forward and backward."
   ]
  },
  {
   "cell_type": "code",
   "execution_count": null,
   "id": "4",
   "metadata": {},
   "outputs": [],
   "source": [
    "# TODO: Implement is_palindrome(s)\n",
    "#palindrome is the same forward and backwards: ex racecar\n",
    "\n",
    "def is_palindrome(s):\n",
    "    if len(s) <= 1: return True #\n",
    "    if s[0] != s[-1]: return False # is first letter does not equal last letter not a palindrome\n",
    "    return is_palindrome(s[1:-1])\n",
    "\n",
    "print(is_palindrome(\"racecar\"))"
   ]
  },
  {
   "cell_type": "markdown",
   "id": "5",
   "metadata": {},
   "source": [
    "## 3️⃣ Count Occurrences\n",
    "Write a recursive function `count_occurrences(lst, target)` that counts how many times `target` appears in the list."
   ]
  },
  {
   "cell_type": "code",
   "execution_count": null,
   "id": "6",
   "metadata": {},
   "outputs": [],
   "source": [
    "# TODO: Implement count_occurrences(lst, target)\n"
   ]
  },
  {
   "cell_type": "markdown",
   "id": "7",
   "metadata": {},
   "source": [
    "## 4️⃣ Sum of Digits\n",
    "Write a recursive function `sum_digits(n)` that returns the sum of the digits of a non-negative integer."
   ]
  },
  {
   "cell_type": "code",
   "execution_count": null,
   "id": "8",
   "metadata": {},
   "outputs": [],
   "source": [
    "# TODO: Implement sum_digits(n)\n",
    "\n",
    "def sum_digits(n):\n",
    "    if n < 0:\n",
    "        raise ValueError(\"Input must be positive\") #checking if positive \n",
    "    if n < 10:return n  #STOPPING CONDITION - less than 10 stops with one digit left\n",
    "    return (n % 10) + sum_digits(n//10) #% 10 gets last number, n//10 removes last digit of number and goes back into func\n",
    "    \n",
    "\n",
    "print(sum_digits(123985))"
   ]
  },
  {
   "cell_type": "markdown",
   "id": "9",
   "metadata": {},
   "source": [
    "## 5️⃣ Power Function\n",
    "Write a recursive function `power(a, b)` that returns a to the power of b (a^b)."
   ]
  },
  {
   "cell_type": "code",
   "execution_count": null,
   "id": "10",
   "metadata": {},
   "outputs": [],
   "source": [
    "# TODO: Implement power(a, b)\n"
   ]
  },
  {
   "cell_type": "markdown",
   "id": "11",
   "metadata": {},
   "source": [
    "## 6️⃣ Find Maximum in a List\n",
    "Write a recursive function `find_max(lst)` that returns the largest element in the list.\n"
   ]
  },
  {
   "cell_type": "code",
   "execution_count": null,
   "id": "12",
   "metadata": {},
   "outputs": [],
   "source": [
    "# TODO: Implement find_max(lst)\n"
   ]
  },
  {
   "cell_type": "markdown",
   "id": "13",
   "metadata": {},
   "source": [
    "## 7️⃣ Product of Elements in a List\n",
    "Write a recursive function `product(lst)` that returns the product of all elements in a list.\n",
    "Return 1 for an empty list."
   ]
  },
  {
   "cell_type": "code",
   "execution_count": null,
   "id": "14",
   "metadata": {},
   "outputs": [],
   "source": [
    "# TODO: Implement product(lst)\n"
   ]
  },
  {
   "cell_type": "markdown",
   "id": "15",
   "metadata": {},
   "source": [
    "## 8️⃣ Flatten a Nested List\n",
    "Write a recursive function `flatten(lst)` that takes a nested list and returns a single flat list.\n",
    "Example: `[1, [2, [3, 4]], 5] → [1, 2, 3, 4, 5]`"
   ]
  },
  {
   "cell_type": "code",
   "execution_count": null,
   "id": "16",
   "metadata": {},
   "outputs": [],
   "source": [
    "# TODO: Implement flatten(lst)\n"
   ]
  },
  {
   "cell_type": "markdown",
   "id": "17",
   "metadata": {},
   "source": [
    "## 9️⃣ Print Numbers in Binary\n",
    "Write a recursive function `to_binary(n)` that prints the binary representation of a non-negative integer."
   ]
  },
  {
   "cell_type": "code",
   "execution_count": null,
   "id": "18",
   "metadata": {},
   "outputs": [],
   "source": [
    "# TODO: Implement to_binary(n)\n",
    "def to_binary(n):\n",
    "    \n"
   ]
  },
  {
   "cell_type": "markdown",
   "id": "19",
   "metadata": {},
   "source": [
    "## 10. Draw a Triangle of Stars\n",
    "\n",
    "Write a recursive function `triangle(n)` that prints a right-angled triangle with `n` rows of `*`.\n",
    "\n",
    "Example for n=4:\n",
    "```\n",
    "*\n",
    "**\n",
    "***\n",
    "****\n",
    "```\n"
   ]
  },
  {
   "cell_type": "code",
   "execution_count": null,
   "id": "20",
   "metadata": {},
   "outputs": [],
   "source": [
    "# TODO: Implement triangle(n)\n",
    "def triangle(n):\n",
    "    if n == 0: return #base case - counts down from 4 to 0 first, then counts back up, waits until at 0 to start\n",
    "    triangle (n-1)\n",
    "    print ('*' * n)\n",
    "\n",
    "    pass\n",
    "\n",
    "#each row add 1 star until num stars = n\n",
    "\n",
    "# Test your function\n",
    "triangle(4)\n"
   ]
  }
 ],
 "metadata": {
  "kernelspec": {
   "display_name": "venv",
   "language": "python",
   "name": "python3"
  },
  "language_info": {
   "codemirror_mode": {
    "name": "ipython",
    "version": 3
   },
   "file_extension": ".py",
   "mimetype": "text/x-python",
   "name": "python",
   "nbconvert_exporter": "python",
   "pygments_lexer": "ipython3",
   "version": "3.10.18"
  }
 },
 "nbformat": 4,
 "nbformat_minor": 5
}
