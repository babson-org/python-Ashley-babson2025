{
  "cells": [
    {
      "cell_type": "markdown",
      "metadata": {},
      "source": [
        "# 🧪 Lab 1 Reinforcement Exercises\n",
        "These exercises build on Lab 1 concepts: input handling, string manipulation, control flow, and basic algorithms.\n",
        "Each problem includes a full description and a code cell for your solution."
      ]
    },
    {
      "cell_type": "markdown",
      "metadata": {},
      "source": [
        "## 🟩 Exercise 25: Vowel and Consonant Counter\n",
        "**Problem:** Ask the user for a block of text. Count and display the number of vowels and consonants. Ignore non-letter characters.\n",
        "\n",
        "**Input:**\n",
        "- A string of text\n",
        "\n",
        "**Output:**\n",
        "- Number of vowels\n",
        "- Number of consonants"
      ]
    },
    {
      "cell_type": "code",
      "execution_count": 11,
      "metadata": {},
      "outputs": [
        {
          "name": "stdout",
          "output_type": "stream",
          "text": [
            "Vowels: 0\n",
            "Consonants: 0\n"
          ]
        }
      ],
      "source": [
        "'''\n",
        "For this problem: Counting different input types from user input\n",
        "*see text analysis from lab 1 for help\n",
        "\n",
        "Process:\n",
        "- Get user input\n",
        "- Count if 'a,e,i,o,u' count \n",
        "- Count if alpha except 'a,e,i,o,u' count\n",
        "- print output with { } value of function\n",
        "'''\n",
        "#Ask user for text input\n",
        "text = input(\"Enter text: \").lower() #make lowercase so can set param to fine aeiou\n",
        "\n",
        "\n",
        "#Count vowels (ignore non letters)\n",
        "def vowel_count ():\n",
        "    vowels = 0\n",
        "    for az in text: #change this for vowels \n",
        "        if az in (\"a\",\"e\", \"i\", \"o\", \"u\"):\n",
        "            vowels += 1\n",
        "    return vowels\n",
        "      \n",
        "\n",
        "#Count consonants (ignore non letters)\n",
        "def consonants_count (): \n",
        "    #letters minus vowels how to get? is there a vowel function?\n",
        "    consonants = 0 \n",
        "    for az in text:\n",
        "        if az.isalpha() and az not in (\"a\",\"e\", \"i\", \"o\", \"u\"):\n",
        "            consonants += 1\n",
        "    return consonants \n",
        "\n",
        "#print functions\n",
        "print(f\"Vowels: {vowel_count()}\")\n",
        "print(f\"Consonants: {consonants_count()}\")"
      ]
    },
    {
      "cell_type": "markdown",
      "metadata": {},
      "source": [
        "## 🟩 Exercise 26: Longest Word Finder\n",
        "**Problem:** Ask the user for a sentence. Identify and print the longest word. Strip punctuation from words before comparing lengths.\n",
        "\n",
        "**Input:**\n",
        "- A sentence with words and punctuation\n",
        "\n",
        "**Output:**\n",
        "- The longest word (punctuation removed)"
      ]
    },
    {
      "cell_type": "code",
      "execution_count": 21,
      "metadata": {},
      "outputs": [
        {
          "name": "stdout",
          "output_type": "stream",
          "text": [
            "Longest word: o.ran.ge\n",
            "Letters: 6\n"
          ]
        }
      ],
      "source": [
        "\"\"\"\n",
        "Identify longest string in sentence from user input by uisng comparison statements \n",
        "\n",
        "Process:\n",
        "- Ask for user input text \n",
        "- Check split each word into own string through separation\n",
        "    - ex) \"The orange cat\" --> (\"The\", \"Orange\", \"Cat\")\n",
        "- Count len of alpha in each word - *use alpha becuase punctuation not counted\n",
        "- LOOK FOR MAX CHAR IN WORD AFTER SPLITS\n",
        "- Print longest word in sentence \n",
        "\"\"\"\n",
        "#User input \n",
        "text = input(\"Enter text: \").split ()\n",
        "\n",
        "#word length\n",
        "longest_word = \"\"\n",
        "max_length = 0\n",
        "\n",
        "for word in text:\n",
        "    length = sum(1 for x in word if x.isalpha())\n",
        "    if length > max_length:\n",
        "        max_length = length \n",
        "        longest_word = word\n",
        "\n",
        "#Call and print function\n",
        "print(f\"Longest word: {longest_word}\")\n",
        "print(f\"Letters: {max_length}\")"
      ]
    },
    {
      "cell_type": "markdown",
      "metadata": {},
      "source": [
        "## 🟩 Exercise 27: Sentence Type Breakdown\n",
        "**Problem:** Ask the user for a block of text. Count how many sentences end with `.`, `?`, and `!`. Display a breakdown of sentence types.\n",
        "\n",
        "**Input:**\n",
        "- A block of text\n",
        "\n",
        "**Output:**\n",
        "- Total number of sentences\n",
        "- Number of declarative (.), interrogative (?), and exclamatory (!) sentences"
      ]
    },
    {
      "cell_type": "code",
      "execution_count": 23,
      "metadata": {},
      "outputs": [
        {
          "name": "stdout",
          "output_type": "stream",
          "text": [
            "Text Analysis:\n",
            "Sentences: 3\n",
            "Declarative sentences: 1\n",
            "Interrogative sentences: 1\n",
            "Exclamatory sentences: 1\n"
          ]
        }
      ],
      "source": [
        "'''\n",
        "*Refer to text analysis function for help\n",
        "Looking to analyze sentence breakdown by looking at sentence endings\n",
        "\n",
        "Process:\n",
        "- get user text input \n",
        "- Count sentences - see text analysis code \n",
        "- Count how many time . ? ! independently occur\n",
        "- Print analysis \n",
        "'''\n",
        "#User input\n",
        "text = input(\"Enter text: \")\n",
        "\n",
        "#Count sentences \n",
        "sent = text.count(\"?\") + text.count (\"!\") + text.count (\".\")\n",
        "\n",
        "#Count . \n",
        "declaratives = text.count (\".\")\n",
        "\n",
        "#Count !\n",
        "interrogatives = text.count (\"!\")\n",
        "\n",
        "#Count ?\n",
        "\n",
        "exclamatory = text.count(\"?\")\n",
        "\n",
        "print(\"Text Analysis:\")\n",
        "print(f\"Sentences: {sent}\")\n",
        "print(f\"Declarative sentences: {declaratives}\")\n",
        "print(f\"Interrogative sentences: {interrogatives}\")\n",
        "print(f\"Exclamatory sentences: {exclamatory}\")"
      ]
    },
    {
      "cell_type": "markdown",
      "metadata": {},
      "source": [
        "## Exercise 28: Caesar Cipher Key Finder\n",
        "\n",
        "Objective: Write a program to decode a message when the key is unknown, using reasoning instead of trying all shifts.\n",
        "\n",
        "Scenario:\n",
        "-    You receive an encrypted message:\n",
        "-    Encrypted message: 'KHOOR ZRUOG'\n",
        "-    Hint: The first word is 'HELLO'\n",
        "  \n",
        "  \n",
        "Tasks:\n",
        "-    Identify the shift key\n",
        "-    Use the hint ('HELLO') to determine the number of positions the letters were shifted.\n",
        "-    Think: 'H' ? 'K', what shift was applied?\n",
        "-    Decode the full message\n",
        "-    Write a function decode_caesar(message, key) that takes the encrypted message and the key you found.\n",
        "-    Print the decrypted message."
      ]
    },
    {
      "cell_type": "code",
      "execution_count": 24,
      "metadata": {},
      "outputs": [
        {
          "name": "stdout",
          "output_type": "stream",
          "text": [
            "Result: hello world\n"
          ]
        }
      ],
      "source": [
        "''' \n",
        "Take encrypted message and decode with unknown key. Trying to not use all shift to get message. \n",
        "USE REASONING VS TRIAL AND ERROR\n",
        "\n",
        "Knowns:\n",
        "- First word is Hello\n",
        "\n",
        "Process:\n",
        "- Assign message to variable \n",
        "- Look at letters considering the known hint \n",
        "- Use specific shift to decode message, not user input \n",
        "- make function to decode - refer to caeser cypher lab \n",
        "'''\n",
        "\n",
        "#Assign decoded message to variable \n",
        "msg = \"KHOOR ZRUOG\".lower()\n",
        "        #Hello ____\n",
        "        #I think 3 shifted to the right \n",
        "\n",
        "#Decrypt by shift amount \n",
        "result = \"\"\n",
        "shift = 3\n",
        "    #assigning number to char in text \n",
        "for char in msg: \n",
        "    if char.isalpha():\n",
        "        start = ord ('a')\n",
        "        position = ord(char)- start\n",
        "   \n",
        "        new_ord = (position - shift) % 26\n",
        "        newchar = chr(start + new_ord)\n",
        "        #chr function: converts unicode integer value to a letter\n",
        "        result += newchar\n",
        "    else:\n",
        "        result += char\n",
        "\n",
        "\n",
        "#Print result\n",
        "print(\"Result:\", result)"
      ]
    }
  ],
  "metadata": {
    "kernelspec": {
      "display_name": "Python 3",
      "language": "python",
      "name": "python3"
    },
    "language_info": {
      "codemirror_mode": {
        "name": "ipython",
        "version": 3
      },
      "file_extension": ".py",
      "mimetype": "text/x-python",
      "name": "python",
      "nbconvert_exporter": "python",
      "pygments_lexer": "ipython3",
      "version": "3.10.18"
    }
  },
  "nbformat": 4,
  "nbformat_minor": 2
}
