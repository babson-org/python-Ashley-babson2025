{
  "cells": [
    {
      "cell_type": "markdown",
      "metadata": {},
      "source": [
        "# 🧪 Lab 1 Reinforcement Exercises\n",
        "These exercises build on Lab 1 concepts: input handling, string manipulation, control flow, and basic algorithms.\n",
        "Each problem includes a full description and a code cell for your solution."
      ]
    },
    {
      "cell_type": "markdown",
      "metadata": {},
      "source": [
        "## 🟩 Exercise 25: Vowel and Consonant Counter\n",
        "**Problem:** Ask the user for a block of text. Count and display the number of vowels and consonants. Ignore non-letter characters.\n",
        "\n",
        "**Input:**\n",
        "- A string of text\n",
        "\n",
        "**Output:**\n",
        "- Number of vowels\n",
        "- Number of consonants"
      ]
    },
    {
      "cell_type": "code",
      "execution_count": null,
      "metadata": {},
      "outputs": [],
      "source": [
        "'''\n",
        "For this problem: Counting different input types from user input\n",
        "\n",
        "Process:\n",
        "- Get user input\n",
        "- Use a while loop - if 'a,e,i,o,u' count \n",
        "- Use a while loop - if alpha except 'a,e,i,o,u' count\n",
        "- print output with { } value of function\n",
        "'''\n",
        "#Ask user for text input\n",
        "text = input(\"Enter text: \")\n",
        "\n",
        "#Count vowels (ignore non letters)\n",
        "def vowel_count ():\n",
        "    while True:\n",
        "        \n",
        "\n",
        "#Count consonants (ignore non letters)\n",
        "\n",
        "#print functions"
      ]
    },
    {
      "cell_type": "markdown",
      "metadata": {},
      "source": [
        "## 🟩 Exercise 26: Longest Word Finder\n",
        "**Problem:** Ask the user for a sentence. Identify and print the longest word. Strip punctuation from words before comparing lengths.\n",
        "\n",
        "**Input:**\n",
        "- A sentence with words and punctuation\n",
        "\n",
        "**Output:**\n",
        "- The longest word (punctuation removed)"
      ]
    },
    {
      "cell_type": "code",
      "execution_count": null,
      "metadata": {},
      "outputs": [],
      "source": []
    },
    {
      "cell_type": "markdown",
      "metadata": {},
      "source": [
        "## 🟩 Exercise 27: Sentence Type Breakdown\n",
        "**Problem:** Ask the user for a block of text. Count how many sentences end with `.`, `?`, and `!`. Display a breakdown of sentence types.\n",
        "\n",
        "**Input:**\n",
        "- A block of text\n",
        "\n",
        "**Output:**\n",
        "- Total number of sentences\n",
        "- Number of declarative (.), interrogative (?), and exclamatory (!) sentences"
      ]
    },
    {
      "cell_type": "code",
      "execution_count": null,
      "metadata": {},
      "outputs": [],
      "source": []
    },
    {
      "cell_type": "markdown",
      "metadata": {},
      "source": [
        "## Exercise 28: Caesar Cipher Key Finder\n",
        "\n",
        "Objective: Write a program to decode a message when the key is unknown, using reasoning instead of trying all shifts.\n",
        "\n",
        "Scenario:\n",
        "-    You receive an encrypted message:\n",
        "-    Encrypted message: 'KHOOR ZRUOG'\n",
        "-    Hint: The first word is 'HELLO'\n",
        "  \n",
        "  \n",
        "Tasks:\n",
        "-    Identify the shift key\n",
        "-    Use the hint ('HELLO') to determine the number of positions the letters were shifted.\n",
        "-    Think: 'H' ? 'K', what shift was applied?\n",
        "-    Decode the full message\n",
        "-    Write a function decode_caesar(message, key) that takes the encrypted message and the key you found.\n",
        "-    Print the decrypted message."
      ]
    },
    {
      "cell_type": "code",
      "execution_count": null,
      "metadata": {},
      "outputs": [],
      "source": []
    }
  ],
  "metadata": {
    "kernelspec": {
      "display_name": "venv",
      "language": "python",
      "name": "python3"
    },
    "language_info": {
      "name": "python",
      "version": "3.10.18"
    }
  },
  "nbformat": 4,
  "nbformat_minor": 2
}
